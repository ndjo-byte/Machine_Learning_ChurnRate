{
 "cells": [
  {
   "cell_type": "markdown",
   "metadata": {},
   "source": [
    "### Preparing sample data for streamlit app demo"
   ]
  },
  {
   "cell_type": "code",
   "execution_count": 53,
   "metadata": {},
   "outputs": [],
   "source": [
    "import pandas as pd \n",
    "from sklearn.utils import shuffle"
   ]
  },
  {
   "cell_type": "code",
   "execution_count": 54,
   "metadata": {},
   "outputs": [],
   "source": [
    "sample_data = pd.read_csv(('../raw/customer_churn_dataset-testing-master.csv'))"
   ]
  },
  {
   "cell_type": "code",
   "execution_count": 55,
   "metadata": {},
   "outputs": [],
   "source": [
    "# drop nulls\n",
    "sample_data.dropna(axis=0, inplace=True)\n",
    "# dtypes to int\n",
    "sample_data = sample_data.astype({'CustomerID':'int', 'Age': 'int', 'Tenure':'int', 'Usage Frequency':'int', 'Support Calls':'int', 'Total Spend':'int', 'Last Interaction':'int',  'Churn':'int'})\n",
    "# remove index (ID col)\n",
    "sample_data.drop(columns='CustomerID', inplace=True)\n",
    "#reorder cols \n",
    "columns = [col for col in sample_data.columns if col != 'Churn'] + ['Churn']\n",
    "sample_data = sample_data[columns]\n",
    "#normalise column names \n",
    "sample_data.rename(columns={'Age': 'age' , 'Gender': 'gender', 'Tenure': 'tenure', 'Usage Frequency': 'usage_frequency', \n",
    "                 'Support Calls':'support_calls', 'Payment Delay': 'payment_delay', 'Contract Length': 'contract_length', \n",
    "                 'Total Spend':'total_spend', 'Last Interaction': 'last_interaction', 'Subscription Type': 'subscription_type',\n",
    "                 'Churn':'churn'}, inplace=True)\n",
    "\n",
    "# Shuffling \n",
    "sample_data = shuffle(sample_data, random_state=42).reset_index(drop=True)"
   ]
  },
  {
   "cell_type": "code",
   "execution_count": 56,
   "metadata": {},
   "outputs": [],
   "source": [
    "# Remove leading/trailing spaces from categorical columns\n",
    "sample_data['gender'] = sample_data['gender'].str.strip()\n",
    "sample_data['contract_length'] = sample_data['contract_length'].str.strip()\n",
    "sample_data['subscription_type'] = sample_data['subscription_type'].str.strip()\n"
   ]
  },
  {
   "cell_type": "code",
   "execution_count": 57,
   "metadata": {},
   "outputs": [],
   "source": [
    "sample_y = sample_data.iloc[:2000]"
   ]
  },
  {
   "cell_type": "code",
   "execution_count": 58,
   "metadata": {},
   "outputs": [],
   "source": [
    "sample_data = sample_data.iloc[:2000, :-1]"
   ]
  },
  {
   "cell_type": "code",
   "execution_count": 59,
   "metadata": {},
   "outputs": [
    {
     "name": "stdout",
     "output_type": "stream",
     "text": [
      "age                  0\n",
      "gender               0\n",
      "tenure               0\n",
      "usage_frequency      0\n",
      "support_calls        0\n",
      "payment_delay        0\n",
      "subscription_type    0\n",
      "contract_length      0\n",
      "total_spend          0\n",
      "last_interaction     0\n",
      "dtype: int64\n",
      "age                  0\n",
      "gender               0\n",
      "tenure               0\n",
      "usage_frequency      0\n",
      "support_calls        0\n",
      "payment_delay        0\n",
      "subscription_type    0\n",
      "contract_length      0\n",
      "total_spend          0\n",
      "last_interaction     0\n",
      "dtype: int64\n"
     ]
    }
   ],
   "source": [
    "# Check for any NaN or empty string values remaining in the dataset\n",
    "print(sample_data.isnull().sum())  # To check for NaN values\n",
    "print((sample_data == \"\").sum())   # To check for empty strings\n"
   ]
  },
  {
   "cell_type": "code",
   "execution_count": 60,
   "metadata": {},
   "outputs": [
    {
     "name": "stdout",
     "output_type": "stream",
     "text": [
      "age                   int64\n",
      "gender               object\n",
      "tenure                int64\n",
      "usage_frequency       int64\n",
      "support_calls         int64\n",
      "payment_delay         int64\n",
      "subscription_type    object\n",
      "contract_length      object\n",
      "total_spend           int64\n",
      "last_interaction      int64\n",
      "dtype: object\n"
     ]
    }
   ],
   "source": [
    "print(sample_data.dtypes)\n"
   ]
  },
  {
   "cell_type": "code",
   "execution_count": 61,
   "metadata": {},
   "outputs": [
    {
     "name": "stdout",
     "output_type": "stream",
     "text": [
      "['Male' 'Female']\n",
      "['Monthly' 'Quarterly' 'Annual']\n",
      "['Standard' 'Premium' 'Basic']\n"
     ]
    }
   ],
   "source": [
    "# Check for unexpected values in categorical columns\n",
    "print(sample_data['gender'].unique())  # List all unique values in 'gender'\n",
    "print(sample_data['contract_length'].unique())  # List all unique values in 'contract_length'\n",
    "print(sample_data['subscription_type'].unique())  # List all unique values in 'subscription_type'\n"
   ]
  },
  {
   "cell_type": "code",
   "execution_count": 62,
   "metadata": {},
   "outputs": [
    {
     "data": {
      "text/html": [
       "<div>\n",
       "<style scoped>\n",
       "    .dataframe tbody tr th:only-of-type {\n",
       "        vertical-align: middle;\n",
       "    }\n",
       "\n",
       "    .dataframe tbody tr th {\n",
       "        vertical-align: top;\n",
       "    }\n",
       "\n",
       "    .dataframe thead th {\n",
       "        text-align: right;\n",
       "    }\n",
       "</style>\n",
       "<table border=\"1\" class=\"dataframe\">\n",
       "  <thead>\n",
       "    <tr style=\"text-align: right;\">\n",
       "      <th></th>\n",
       "      <th>age</th>\n",
       "      <th>gender</th>\n",
       "      <th>tenure</th>\n",
       "      <th>usage_frequency</th>\n",
       "      <th>support_calls</th>\n",
       "      <th>payment_delay</th>\n",
       "      <th>subscription_type</th>\n",
       "      <th>contract_length</th>\n",
       "      <th>total_spend</th>\n",
       "      <th>last_interaction</th>\n",
       "    </tr>\n",
       "  </thead>\n",
       "  <tbody>\n",
       "    <tr>\n",
       "      <th>0</th>\n",
       "      <td>55</td>\n",
       "      <td>Male</td>\n",
       "      <td>20</td>\n",
       "      <td>24</td>\n",
       "      <td>4</td>\n",
       "      <td>6</td>\n",
       "      <td>Standard</td>\n",
       "      <td>Monthly</td>\n",
       "      <td>635</td>\n",
       "      <td>25</td>\n",
       "    </tr>\n",
       "    <tr>\n",
       "      <th>1</th>\n",
       "      <td>28</td>\n",
       "      <td>Male</td>\n",
       "      <td>27</td>\n",
       "      <td>30</td>\n",
       "      <td>4</td>\n",
       "      <td>5</td>\n",
       "      <td>Premium</td>\n",
       "      <td>Quarterly</td>\n",
       "      <td>631</td>\n",
       "      <td>10</td>\n",
       "    </tr>\n",
       "    <tr>\n",
       "      <th>2</th>\n",
       "      <td>65</td>\n",
       "      <td>Female</td>\n",
       "      <td>60</td>\n",
       "      <td>17</td>\n",
       "      <td>7</td>\n",
       "      <td>16</td>\n",
       "      <td>Premium</td>\n",
       "      <td>Quarterly</td>\n",
       "      <td>314</td>\n",
       "      <td>1</td>\n",
       "    </tr>\n",
       "    <tr>\n",
       "      <th>3</th>\n",
       "      <td>53</td>\n",
       "      <td>Male</td>\n",
       "      <td>47</td>\n",
       "      <td>16</td>\n",
       "      <td>8</td>\n",
       "      <td>7</td>\n",
       "      <td>Premium</td>\n",
       "      <td>Annual</td>\n",
       "      <td>527</td>\n",
       "      <td>13</td>\n",
       "    </tr>\n",
       "    <tr>\n",
       "      <th>4</th>\n",
       "      <td>32</td>\n",
       "      <td>Male</td>\n",
       "      <td>56</td>\n",
       "      <td>5</td>\n",
       "      <td>7</td>\n",
       "      <td>15</td>\n",
       "      <td>Premium</td>\n",
       "      <td>Annual</td>\n",
       "      <td>236</td>\n",
       "      <td>25</td>\n",
       "    </tr>\n",
       "    <tr>\n",
       "      <th>5</th>\n",
       "      <td>60</td>\n",
       "      <td>Female</td>\n",
       "      <td>9</td>\n",
       "      <td>6</td>\n",
       "      <td>9</td>\n",
       "      <td>5</td>\n",
       "      <td>Premium</td>\n",
       "      <td>Quarterly</td>\n",
       "      <td>638</td>\n",
       "      <td>24</td>\n",
       "    </tr>\n",
       "    <tr>\n",
       "      <th>6</th>\n",
       "      <td>37</td>\n",
       "      <td>Male</td>\n",
       "      <td>1</td>\n",
       "      <td>28</td>\n",
       "      <td>6</td>\n",
       "      <td>13</td>\n",
       "      <td>Premium</td>\n",
       "      <td>Annual</td>\n",
       "      <td>875</td>\n",
       "      <td>28</td>\n",
       "    </tr>\n",
       "    <tr>\n",
       "      <th>7</th>\n",
       "      <td>21</td>\n",
       "      <td>Male</td>\n",
       "      <td>59</td>\n",
       "      <td>7</td>\n",
       "      <td>0</td>\n",
       "      <td>7</td>\n",
       "      <td>Basic</td>\n",
       "      <td>Annual</td>\n",
       "      <td>814</td>\n",
       "      <td>15</td>\n",
       "    </tr>\n",
       "    <tr>\n",
       "      <th>8</th>\n",
       "      <td>26</td>\n",
       "      <td>Male</td>\n",
       "      <td>37</td>\n",
       "      <td>23</td>\n",
       "      <td>6</td>\n",
       "      <td>25</td>\n",
       "      <td>Basic</td>\n",
       "      <td>Annual</td>\n",
       "      <td>541</td>\n",
       "      <td>29</td>\n",
       "    </tr>\n",
       "    <tr>\n",
       "      <th>9</th>\n",
       "      <td>65</td>\n",
       "      <td>Male</td>\n",
       "      <td>35</td>\n",
       "      <td>12</td>\n",
       "      <td>3</td>\n",
       "      <td>0</td>\n",
       "      <td>Premium</td>\n",
       "      <td>Monthly</td>\n",
       "      <td>476</td>\n",
       "      <td>11</td>\n",
       "    </tr>\n",
       "  </tbody>\n",
       "</table>\n",
       "</div>"
      ],
      "text/plain": [
       "   age  gender  tenure  usage_frequency  support_calls  payment_delay  \\\n",
       "0   55    Male      20               24              4              6   \n",
       "1   28    Male      27               30              4              5   \n",
       "2   65  Female      60               17              7             16   \n",
       "3   53    Male      47               16              8              7   \n",
       "4   32    Male      56                5              7             15   \n",
       "5   60  Female       9                6              9              5   \n",
       "6   37    Male       1               28              6             13   \n",
       "7   21    Male      59                7              0              7   \n",
       "8   26    Male      37               23              6             25   \n",
       "9   65    Male      35               12              3              0   \n",
       "\n",
       "  subscription_type contract_length  total_spend  last_interaction  \n",
       "0          Standard         Monthly          635                25  \n",
       "1           Premium       Quarterly          631                10  \n",
       "2           Premium       Quarterly          314                 1  \n",
       "3           Premium          Annual          527                13  \n",
       "4           Premium          Annual          236                25  \n",
       "5           Premium       Quarterly          638                24  \n",
       "6           Premium          Annual          875                28  \n",
       "7             Basic          Annual          814                15  \n",
       "8             Basic          Annual          541                29  \n",
       "9           Premium         Monthly          476                11  "
      ]
     },
     "execution_count": 62,
     "metadata": {},
     "output_type": "execute_result"
    }
   ],
   "source": [
    "sample_data.head(10)"
   ]
  },
  {
   "cell_type": "code",
   "execution_count": 63,
   "metadata": {},
   "outputs": [],
   "source": [
    "sample_data.to_csv(\"sampled_test_data.csv\", index=False)\n",
    "sample_y.to_csv(\"sample_y_values.csv\", index=False)"
   ]
  },
  {
   "cell_type": "markdown",
   "metadata": {},
   "source": []
  }
 ],
 "metadata": {
  "kernelspec": {
   "display_name": "base",
   "language": "python",
   "name": "python3"
  },
  "language_info": {
   "codemirror_mode": {
    "name": "ipython",
    "version": 3
   },
   "file_extension": ".py",
   "mimetype": "text/x-python",
   "name": "python",
   "nbconvert_exporter": "python",
   "pygments_lexer": "ipython3",
   "version": "3.12.4"
  }
 },
 "nbformat": 4,
 "nbformat_minor": 2
}
